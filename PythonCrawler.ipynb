{
 "cells": [
  {
   "cell_type": "markdown",
   "metadata": {},
   "source": [
    "# Crawler for ESPN NBA News\n",
    "get all news from top news and save as JSON file.\n",
    "\n",
    "reference: http://www.practicepython.org/solution/2014/07/10/17-decode-a-web-page-solutions.html"
   ]
  },
  {
   "cell_type": "code",
   "execution_count": 41,
   "metadata": {
    "collapsed": false
   },
   "outputs": [],
   "source": [
    "# save to JSON\n",
    "import json\n",
    "file = open(\"dailyESPN_NBANews\", \"w\")\n",
    "\n",
    "from bs4 import BeautifulSoup\n",
    "\n",
    "# the URL of the NBA website we want to parse\n",
    "base_url = 'http://www.espn.com/nba/index?tab=2'\n",
    "\n",
    "r = requests.get(base_url)"
   ]
  },
  {
   "cell_type": "code",
   "execution_count": 42,
   "metadata": {
    "collapsed": false
   },
   "outputs": [
    {
     "name": "stdout",
     "output_type": "stream",
     "text": [
      "Sources: Bucks serious suitors for Jefferson\n",
      "McCollum suspended for Blazers' opener\n",
      "Sources: Exum exploring nonsurgical options\n",
      "Sources: E. Okafor to play for Sixers' G League\n",
      "Popovich says Leonard likely out for opener\n",
      "Pacers' Robinson out 3-4 months after surgery\n",
      "Who wins Cavs-Hawks deal for Jefferson?\n",
      "Sources: Bucks serious suitors for Jefferson\n",
      "McCollum suspended for Blazers' opener\n",
      "Sources: Exum exploring nonsurgical options\n",
      "Sources: E. Okafor to play for Sixers' G League\n",
      "Popovich says Leonard likely out for opener\n",
      "Pacers' Robinson out 3-4 months after surgery\n",
      "Who wins Cavs-Hawks deal for Jefferson?\n"
     ]
    },
    {
     "name": "stderr",
     "output_type": "stream",
     "text": [
      "d:\\Anaconda3\\lib\\site-packages\\bs4\\__init__.py:181: UserWarning: No parser was explicitly specified, so I'm using the best available HTML parser for this system (\"lxml\"). This usually isn't a problem, but if you run this code on another system, or in a different virtual environment, it may use a different parser and behave differently.\n",
      "\n",
      "The code that caused this warning is on line 193 of the file d:\\Anaconda3\\lib\\runpy.py. To get rid of this warning, change code that looks like this:\n",
      "\n",
      " BeautifulSoup([your markup])\n",
      "\n",
      "to this:\n",
      "\n",
      " BeautifulSoup([your markup], \"lxml\")\n",
      "\n",
      "  markup_type=markup_type))\n"
     ]
    }
   ],
   "source": [
    "soup = BeautifulSoup(r.text)\n",
    "\n",
    "result = []\n",
    "output = {}\n",
    "\n",
    "i = 0\n",
    "\n",
    "for story_heading in soup.find_all(attrs={\"data-mptype\": \"headline\"}): \n",
    "\n",
    "    if story_heading.a: \n",
    "            res = story_heading.a.text.replace(\"\\n\", \" \").strip()\n",
    "            print(res)\n",
    "\n",
    "    else:\n",
    "        res = story_heading.contents[0].strip()\n",
    "        print(res)\n",
    "    \n",
    "    result.append(res)\n",
    "    output[\"news \"+str(i)] = res\n",
    "    i+= 1\n",
    "json.dump(output, file)\n",
    "file.close()"
   ]
  },
  {
   "cell_type": "code",
   "execution_count": null,
   "metadata": {
    "collapsed": true
   },
   "outputs": [],
   "source": []
  }
 ],
 "metadata": {
  "kernelspec": {
   "display_name": "Python 3",
   "language": "python",
   "name": "python3"
  },
  "language_info": {
   "codemirror_mode": {
    "name": "ipython",
    "version": 3
   },
   "file_extension": ".py",
   "mimetype": "text/x-python",
   "name": "python",
   "nbconvert_exporter": "python",
   "pygments_lexer": "ipython3",
   "version": "3.6.0"
  }
 },
 "nbformat": 4,
 "nbformat_minor": 2
}
